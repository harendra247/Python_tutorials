{
 "cells": [
  {
   "cell_type": "markdown",
   "metadata": {},
   "source": [
    "# Python cheat sheet for beginners"
   ]
  },
  {
   "cell_type": "markdown",
   "metadata": {},
   "source": [
    "## 1. Python Functions"
   ]
  },
  {
   "cell_type": "code",
   "execution_count": 1,
   "metadata": {},
   "outputs": [
    {
     "name": "stdout",
     "output_type": "stream",
     "text": [
      "Namaste Harendra !\n",
      "Namaste Harendra Singh!\n",
      "Namaste  !\n"
     ]
    }
   ],
   "source": [
    "'''\n",
    "def function_name(parameters=[default arguments]):\n",
    "    \"\"\"docstring\"\"\"\n",
    "    statement(s)\n",
    "    return [expression_list] #optional\n",
    "'''\n",
    "\n",
    "def greetings(first_name=\"\", last_name=\"\"):\n",
    "    \"\"\"This function greets to the person passed in as parameter\"\"\"\n",
    "    print(\"Namaste \" + first_name + \" \" + last_name + \"!\")\n",
    "    \n",
    "greetings(\"Harendra\")\n",
    "greetings(\"Harendra\", \"Singh\")\n",
    "greetings()"
   ]
  },
  {
   "cell_type": "code",
   "execution_count": 2,
   "metadata": {},
   "outputs": [
    {
     "name": "stdout",
     "output_type": "stream",
     "text": [
      "This function greets to the person passed in as parameter\n"
     ]
    }
   ],
   "source": [
    "print(greetings.__doc__)"
   ]
  },
  {
   "cell_type": "markdown",
   "metadata": {},
   "source": [
    "## 2. Anonymous/Lambda Functions"
   ]
  },
  {
   "cell_type": "code",
   "execution_count": 3,
   "metadata": {},
   "outputs": [
    {
     "name": "stdout",
     "output_type": "stream",
     "text": [
      "10\n"
     ]
    }
   ],
   "source": [
    "# lambda arguments: expression\n",
    "double = lambda x: x * 2\n",
    "\n",
    "# Output: 10\n",
    "print(double(5))"
   ]
  },
  {
   "cell_type": "markdown",
   "metadata": {},
   "source": [
    "## 3. Python Global, Local and Nonlocal variables\n"
   ]
  },
  {
   "cell_type": "code",
   "execution_count": 4,
   "metadata": {},
   "outputs": [
    {
     "name": "stdout",
     "output_type": "stream",
     "text": [
      "inner: nonlocal\n",
      "outer: nonlocal\n",
      "foo: globalglobal\n",
      "foo local\n"
     ]
    }
   ],
   "source": [
    "x = \"global\"\n",
    "\n",
    "def foo():\n",
    "    global x # Notice global keywoard\n",
    "    y = \"local\"\n",
    "    x = x * 2\n",
    "    print(\"foo:\", x)\n",
    "    print(\"foo\", y)\n",
    "\n",
    "def outer():\n",
    "    x = \"local\"\n",
    "    \n",
    "    def inner():\n",
    "        nonlocal x # Notice nonlocal keywoard\n",
    "        x = \"nonlocal\"\n",
    "        print(\"inner:\", x)\n",
    "    \n",
    "    inner()\n",
    "    print(\"outer:\", x)\n",
    "\n",
    "outer()\n",
    "foo()"
   ]
  },
  {
   "cell_type": "markdown",
   "metadata": {},
   "source": [
    "## 4. Python Data types"
   ]
  },
  {
   "cell_type": "markdown",
   "metadata": {},
   "source": [
    "### List"
   ]
  },
  {
   "cell_type": "code",
   "execution_count": 53,
   "metadata": {},
   "outputs": [
    {
     "name": "stdout",
     "output_type": "stream",
     "text": [
      "o\n",
      "4\n",
      "['a']\n",
      "[8, 4, 6, 4]\n",
      "['o', 'g', 'r']\n",
      "['p', 'r', 'o', 'g']\n",
      "['a', 'm', 'i', 'z']\n",
      "['p', 'r', 'o', 'g', 'r', 'a', 'm', 'i', 'z']\n",
      "['p', 'r', 'g', 'r', 'a', 'm', 'i', 'z']\n",
      "['p', 'm', 'i', 'z']\n"
     ]
    }
   ],
   "source": [
    "# empty list\n",
    "my_list = []\n",
    "# list of integers\n",
    "my_list = [1, 2, 3]\n",
    "# list with mixed datatypes\n",
    "my_list = [1, \"Hello\", 3.4]\n",
    "# nested list\n",
    "my_list = [\"mouse\", [8, 4, 6, 4], ['a']]\n",
    "\n",
    "# List Index: Nested indexing\n",
    "print(my_list[0][1])    \n",
    "print(my_list[1][3])\n",
    "\n",
    "# Negative indexing: \n",
    "print(my_list[-1])\n",
    "print(my_list[-2])\n",
    "\n",
    "# Slice lists\n",
    "my_list = ['p','r','o','g','r','a','m','i','z']\n",
    "# elements 3rd to 5th\n",
    "print(my_list[2:5])\n",
    "# elements beginning to 4th\n",
    "print(my_list[:-5])\n",
    "# elements 6th to end\n",
    "print(my_list[5:])\n",
    "# elements beginning to end\n",
    "print(my_list[:])\n",
    "\n",
    "# delete one item\n",
    "del my_list[2]\n",
    "# Output: ['p', 'r', 'b', 'l', 'e', 'm']     \n",
    "print(my_list)\n",
    "# delete multiple items\n",
    "del my_list[1:5]  \n",
    "# Output: ['p', 'm']\n",
    "print(my_list)\n",
    "# delete entire list\n",
    "del my_list   "
   ]
  },
  {
   "cell_type": "markdown",
   "metadata": {},
   "source": [
    "### Tuple"
   ]
  },
  {
   "cell_type": "code",
   "execution_count": 60,
   "metadata": {},
   "outputs": [
    {
     "name": "stdout",
     "output_type": "stream",
     "text": [
      "()\n",
      "(1, 2, 3)\n",
      "(1, 'Hello', 3.4)\n",
      "('mouse', [8, 4, 6], (1, 2, 3))\n",
      "<class 'str'>\n",
      "<class 'tuple'>\n",
      "<class 'tuple'>\n",
      "s\n",
      "4\n",
      "(1, 2, 3)\n"
     ]
    }
   ],
   "source": [
    "# A tuple in Python is similar to a list. The difference between the two is that we cannot change the elements of a tuple once it is assigned whereas, in a list, elements can be changed.\n",
    "\n",
    "# Empty tuple\n",
    "my_tuple = ()\n",
    "print(my_tuple)\n",
    "\n",
    "# Tuple having integers\n",
    "my_tuple = (1, 2, 3)\n",
    "print(my_tuple)  \n",
    "\n",
    "# tuple with mixed datatypes\n",
    "my_tuple = 1, \"Hello\", 3.4 # A tuple can also be created without using parentheses. This is known as tuple packing.\n",
    "print(my_tuple)\n",
    "# tuple unpacking is also possible\n",
    "a, b, c = my_tuple\n",
    "\n",
    "# nested tuple\n",
    "my_tuple = (\"mouse\", [8, 4, 6], (1, 2, 3))\n",
    "\n",
    "print(my_tuple)\n",
    "\n",
    "# Creating a tuple with one element is a bit tricky.\n",
    "my_tuple = (\"hello\")\n",
    "print(type(my_tuple))  # <class 'str'>\n",
    "\n",
    "# Creating a tuple having one element\n",
    "my_tuple = (\"hello\",)  \n",
    "print(type(my_tuple))  # <class 'tuple'> \n",
    "\n",
    "# Parentheses is optional\n",
    "my_tuple = \"hello\",\n",
    "print(type(my_tuple))  # <class 'tuple'> \n",
    "\n",
    "# nested tuple\n",
    "n_tuple = (\"mouse\", [8, 4, 6], (1, 2, 3))\n",
    "\n",
    "# nested index\n",
    "print(n_tuple[0][3])       # 's'\n",
    "print(n_tuple[1][1])       # 4\n",
    "# Negative Indexing\n",
    "print(n_tuple[-1]) \n",
    "\n",
    "# Changing a Tuple\n",
    "# Unlike lists, tuples are immutable.\n"
   ]
  },
  {
   "cell_type": "markdown",
   "metadata": {},
   "source": [
    "### Sets"
   ]
  },
  {
   "cell_type": "code",
   "execution_count": 62,
   "metadata": {},
   "outputs": [
    {
     "name": "stdout",
     "output_type": "stream",
     "text": [
      "{1, 2, 3}\n",
      "{'Hello', 1.0, (1, 2, 3)}\n",
      "{1, 2, 3}\n"
     ]
    }
   ],
   "source": [
    "'''\n",
    "A set is an unordered collection of items. Every element is unique (no duplicates) and must be immutable (which cannot be changed).\n",
    "\n",
    "However, the set itself is mutable. We can add or remove items from it.\n",
    "\n",
    "Sets can be used to perform mathematical set operations like union, intersection, symmetric difference etc.\n",
    "'''\n",
    "\n",
    "# initialize a with {}\n",
    "a = {}\n",
    "# initialize a with set()\n",
    "a = set()\n",
    "\n",
    "# set of integers\n",
    "my_set = {1, 2, 3}\n",
    "print(my_set)\n",
    "\n",
    "# set of mixed datatypes\n",
    "my_set = {1.0, \"Hello\", (1, 2, 3)}\n",
    "print(my_set)\n",
    "my_set = set([1,2,3,2])\n",
    "print(my_set)\n",
    "\n",
    "# Python Frozenset\n",
    "# Frozenset is a new class that has the characteristics of a set, but its elements cannot be changed once assigned. While tuples are immutable lists, frozensets are immutable sets.\n",
    "# initialize A and B\n",
    "A = frozenset([1, 2, 3, 4])\n",
    "B = frozenset([3, 4, 5, 6])\n",
    "\n"
   ]
  },
  {
   "cell_type": "markdown",
   "metadata": {},
   "source": [
    "### Dictionary"
   ]
  },
  {
   "cell_type": "code",
   "execution_count": 72,
   "metadata": {},
   "outputs": [
    {
     "name": "stdout",
     "output_type": "stream",
     "text": [
      "{}\n",
      "{1: 'apple', 2: 'ball'}\n",
      "{'name': 'John', 1: [2, 4, 3]}\n",
      "{1: 'apple', 2: 'ball'}\n",
      "{1: 'apple', 2: 'ball'}\n",
      "apple\n",
      "{1: 'banana', 2: 'ball'}\n",
      "{1: 1, 3: 9, 5: 25, 7: 49, 9: 81}\n"
     ]
    }
   ],
   "source": [
    "'''\n",
    "Python dictionary is an unordered collection of items. While other compound data \n",
    "types have only value as an element, a dictionary has a key: value pair.'''\n",
    "\n",
    "# empty dictionary\n",
    "my_dict = {}\n",
    "print (my_dict)\n",
    "# dictionary with integer keys\n",
    "my_dict = {1: 'apple', 2: 'ball'}\n",
    "print (my_dict)\n",
    "# dictionary with mixed keys\n",
    "my_dict = {'name': 'John', 1: [2, 4, 3]}\n",
    "print (my_dict)\n",
    "# using dict()\n",
    "my_dict = dict({1:'apple', 2:'ball'})\n",
    "print (my_dict)\n",
    "# from sequence having each item as a pair\n",
    "my_dict = dict([(1,'apple'), (2,'ball')])\n",
    "print (my_dict)\n",
    "\n",
    "print(my_dict[1])\n",
    "# update value\n",
    "my_dict[1] = 'banana' # Dictionary are mutable.\n",
    "print(my_dict)\n",
    "\n",
    "odd_squares = {x: x*x for x in range(11) if x%2 == 1} # A dictionary comprehension\n",
    "print(odd_squares)"
   ]
  },
  {
   "cell_type": "markdown",
   "metadata": {},
   "source": [
    "\n",
    "### String Number"
   ]
  },
  {
   "cell_type": "code",
   "execution_count": 87,
   "metadata": {},
   "outputs": [
    {
     "name": "stdout",
     "output_type": "stream",
     "text": [
      "str =  harendratest\n",
      "str[0] =  h\n",
      "str[-1] =  t\n",
      "str[1:5] =  aren\n",
      "str[5:-2] =  drate\n",
      "\n",
      "--- Default Order ---\n",
      "harendra, hhh and singh\n",
      "\n",
      "--- Positional Order ---\n",
      "hhh, harendra and singh\n",
      "\n",
      "--- Keyword Order ---\n",
      "Joe, Ann and Cox\n",
      "list(enumerate(str) =  [(0, 'h'), (1, 'a'), (2, 'r'), (3, 'e'), (4, 'n'), (5, 'd'), (6, 'r'), (7, 'a'), (8, 's'), (9, 's'), (10, 's')]\n",
      "hahhh\n",
      "AANNN\n",
      "['This', 'will', 'split', 'all', 'words', 'into', 'a', 'list']\n",
      "This will join all words into a string\n",
      "5\n",
      "Good Day\n",
      "The value of x is 12.35\n"
     ]
    }
   ],
   "source": [
    "str = 'harendratest'\n",
    "print('str = ', str)\n",
    "\n",
    "#first character\n",
    "print('str[0] = ', str[0])\n",
    "\n",
    "#last character\n",
    "print('str[-1] = ', str[-1])\n",
    "\n",
    "#slicing 2nd to 5th character\n",
    "print('str[1:5] = ', str[1:5])\n",
    "\n",
    "#slicing 6th to 2nd last character\n",
    "print('str[5:-2] = ', str[5:-2])\n",
    "\n",
    "# default(implicit) order\n",
    "default_order = \"{}, {} and {}\".format('harendra','hhh','singh')\n",
    "print('\\n--- Default Order ---')\n",
    "print(default_order)\n",
    "\n",
    "# order using positional argument\n",
    "positional_order = \"{1}, {0} and {2}\".format('harendra','hhh','singh')\n",
    "print('\\n--- Positional Order ---')\n",
    "print(positional_order)\n",
    "\n",
    "# order using keyword argument\n",
    "keyword_order = \"{d}, {g} and {c}\".format(g='Ann',c='Cox',d='Joe')\n",
    "print('\\n--- Keyword Order ---')\n",
    "print(keyword_order)\n",
    "\n",
    "my_string = 'harendrasss'\n",
    "# my_string[5] = 'a' # Strings are immutable. Not possible\n",
    "# enumerate()\n",
    "list_enumerate = list(enumerate(my_string))\n",
    "print('list(enumerate(str) = ', list_enumerate)\n",
    "\n",
    "# Common Python String Methods\n",
    "print (\"haHHH\".lower())\n",
    "print (\"aannn\".upper())\n",
    "print (\"This will split all words into a list\".split())\n",
    "print (' '.join(['This', 'will', 'join', 'all', 'words', 'into', 'a', 'string']))\n",
    "print ('Good Morning'.find('Mo'))\n",
    "print ('Good Morning'.replace('Morning','Day'))\n",
    "\n",
    "\n",
    "x = 12.3456789\n",
    "print('The value of x is %3.2f' %x) # Old style formatting\n"
   ]
  },
  {
   "cell_type": "markdown",
   "metadata": {},
   "source": [
    "## 5. Python Object Oriented Programming"
   ]
  },
  {
   "cell_type": "markdown",
   "metadata": {},
   "source": [
    "### Class, Object, Methods, Attributes, Behaviour "
   ]
  },
  {
   "cell_type": "code",
   "execution_count": 14,
   "metadata": {},
   "outputs": [
    {
     "name": "stdout",
     "output_type": "stream",
     "text": [
      "Blu is a bird\n",
      "Woo is also a bird\n",
      "Blu is 10 years old\n",
      "Woo is 15 years old\n",
      "Blu sings 'Happy'\n",
      "Blu is now dancing\n"
     ]
    }
   ],
   "source": [
    "class Peacock:\n",
    "\n",
    "    # class attribute : Class attributes are same for all instances of a class.\n",
    "    species = \"bird\"\n",
    "\n",
    "    # instance attribute\n",
    "    def __init__(self, name, age):\n",
    "        self.name = name\n",
    "        self.age = age\n",
    "    \n",
    "    # instance method\n",
    "    def sing(self, song):\n",
    "        return \"{} sings {}\".format(self.name, song)\n",
    "\n",
    "    def dance(self):\n",
    "        return \"{} is now dancing\".format(self.name)\n",
    "\n",
    "# instantiate the Peacock class\n",
    "blu = Peacock(\"Blu\", 10)\n",
    "woo = Peacock(\"Woo\", 15)\n",
    "\n",
    "# access the class attributes\n",
    "print(\"Blu is a {}\".format(blu.__class__.species))\n",
    "print(\"Woo is also a {}\".format(woo.__class__.species))\n",
    "\n",
    "# access the instance attributes\n",
    "print(\"{} is {} years old\".format( blu.name, blu.age))\n",
    "print(\"{} is {} years old\".format( woo.name, woo.age))\n",
    "\n",
    "# call our instance methods\n",
    "print(blu.sing(\"'Happy'\"))\n",
    "print(blu.dance())"
   ]
  },
  {
   "cell_type": "markdown",
   "metadata": {},
   "source": [
    "### Inheritance"
   ]
  },
  {
   "cell_type": "code",
   "execution_count": 18,
   "metadata": {},
   "outputs": [
    {
     "name": "stdout",
     "output_type": "stream",
     "text": [
      "Bird is ready\n",
      "Eagle is ready\n",
      "Eagle\n",
      "Fly faster\n",
      "Run faster\n"
     ]
    }
   ],
   "source": [
    "# parent class\n",
    "class Bird:\n",
    "    \n",
    "    def __init__(self):\n",
    "        print(\"Bird is ready\")\n",
    "\n",
    "    def whoisThis(self):\n",
    "        print(\"Bird\")\n",
    "\n",
    "    def fly(self):\n",
    "        print(\"Fly faster\")\n",
    "\n",
    "# child class\n",
    "class Eagle(Bird):\n",
    "\n",
    "    def __init__(self):\n",
    "        # call super() function\n",
    "        super().__init__()\n",
    "        print(\"Eagle is ready\")\n",
    "\n",
    "    def whoisThis(self):\n",
    "        print(\"Eagle\")\n",
    "\n",
    "    def run(self):\n",
    "        print(\"Run faster\")\n",
    "\n",
    "peggy = Eagle()\n",
    "peggy.whoisThis()\n",
    "peggy.fly()\n",
    "peggy.run()"
   ]
  },
  {
   "cell_type": "markdown",
   "metadata": {},
   "source": [
    "### Encapsulation"
   ]
  },
  {
   "cell_type": "code",
   "execution_count": 21,
   "metadata": {},
   "outputs": [
    {
     "name": "stdout",
     "output_type": "stream",
     "text": [
      "Selling Price: 900\n",
      "Selling Price: 900\n",
      "Selling Price: 1000\n"
     ]
    }
   ],
   "source": [
    "class Computer:\n",
    "\n",
    "    def __init__(self):\n",
    "        self.__maxprice = 900 # private attribute using underscore as prefix i.e single “ _ “ or double “ __“.\n",
    "\n",
    "    def sell(self):\n",
    "        print(\"Selling Price: {}\".format(self.__maxprice))\n",
    "\n",
    "    def setMaxPrice(self, price):\n",
    "        self.__maxprice = price\n",
    "\n",
    "c = Computer()\n",
    "c.sell()\n",
    "\n",
    "# change the price\n",
    "c.__maxprice = 1000\n",
    "c.sell()\n",
    "\n",
    "# using setter function\n",
    "c.setMaxPrice(1000)\n",
    "c.sell()"
   ]
  },
  {
   "cell_type": "markdown",
   "metadata": {},
   "source": [
    "### Polymorphism"
   ]
  },
  {
   "cell_type": "code",
   "execution_count": 29,
   "metadata": {},
   "outputs": [
    {
     "name": "stdout",
     "output_type": "stream",
     "text": [
      "Duck can't fly\n",
      "Lion can't fly\n"
     ]
    }
   ],
   "source": [
    "class Duck:\n",
    "\n",
    "    def fly(self):\n",
    "        print(\"Duck can't fly\")\n",
    "    \n",
    "    def swim(self):\n",
    "        print(\"Duck can swim\")\n",
    "\n",
    "class Lion:\n",
    "\n",
    "    def fly(self):\n",
    "        print(\"Lion can't fly\")\n",
    "    \n",
    "    def swim(self):\n",
    "        print(\"Lion can swim\")\n",
    "\n",
    "# common interface\n",
    "def flying_test(bird):\n",
    "    bird.fly()\n",
    "\n",
    "#instantiate objects\n",
    "tomy = Duck()\n",
    "ossy = Lion()\n",
    "\n",
    "# passing the object\n",
    "flying_test(tomy)\n",
    "flying_test(ossy)"
   ]
  },
  {
   "cell_type": "markdown",
   "metadata": {},
   "source": [
    "### Special Functions Class in Python"
   ]
  },
  {
   "cell_type": "code",
   "execution_count": 38,
   "metadata": {},
   "outputs": [
    {
     "name": "stdout",
     "output_type": "stream",
     "text": [
      "+ operator overloaded:  (1,5)\n",
      "- operator overloaded:  (3,1)\n",
      "lt (<) operator overloaded:  True\n"
     ]
    }
   ],
   "source": [
    "class Point:\n",
    "    def __init__(self, x = 0, y = 0): # Constuctor \n",
    "        self.x = x\n",
    "        self.y = y\n",
    "    \n",
    "    def __str__(self):\n",
    "        return \"({0},{1})\".format(self.x,self.y)\n",
    "    \n",
    "    def __add__(self,other): # + operator overloading\n",
    "        x = self.x + other.x\n",
    "        y = self.y + other.y\n",
    "        return Point(x,y)\n",
    "\n",
    "    def __sub__(self,other): # - operator overloading\n",
    "        x = self.x - other.x\n",
    "        y = self.y - other.y\n",
    "        return Point(x,y)\n",
    "    \n",
    "    def __lt__(self,other):\n",
    "        self_mag = (self.x ** 2) + (self.y ** 2)\n",
    "        other_mag = (other.x ** 2) + (other.y ** 2)\n",
    "        return self_mag < other_mag\n",
    "    \n",
    "p1 = Point(2,3)\n",
    "p2 = Point(-1,2)\n",
    "print(\"+ operator overloaded: \", p1 + p2)\n",
    "print(\"- operator overloaded: \", p1 - p2)\n",
    "\n",
    "print(\"lt (<) operator overloaded: \", Point(1,1) < Point(-2,-3))"
   ]
  },
  {
   "cell_type": "markdown",
   "metadata": {},
   "source": [
    "## 6. Python Advanced Topics"
   ]
  },
  {
   "cell_type": "markdown",
   "metadata": {},
   "source": [
    "### Iterator"
   ]
  },
  {
   "cell_type": "code",
   "execution_count": 93,
   "metadata": {},
   "outputs": [
    {
     "name": "stdout",
     "output_type": "stream",
     "text": [
      "4\n",
      "7\n"
     ]
    },
    {
     "data": {
      "text/plain": [
       "2"
      ]
     },
     "execution_count": 93,
     "metadata": {},
     "output_type": "execute_result"
    }
   ],
   "source": [
    "'''\n",
    "Iterator in Python is simply an object that can be iterated upon. An object which will return data, one \n",
    "element at a time. Technically speaking, Python iterator object must implement two special methods,\n",
    "__iter__() and __next__(), collectively called the iterator protocol. Keep track of internal states, \n",
    "raise StopIteration when there was no values to be returned etc. An object is called iterable if we can \n",
    "get an iterator from it. Most of built-in containers in Python like: list, tuple, string etc. are iterables.'''\n",
    "\n",
    "# define a list\n",
    "my_list = [4, 7, 0, 3]\n",
    "\n",
    "# get an iterator using iter()\n",
    "my_iter = iter(my_list)\n",
    "\n",
    "## iterate through it using next() and __next__()\n",
    "\n",
    "#prints 4\n",
    "print(next(my_iter))\n",
    "\n",
    "#prints 7\n",
    "print(my_iter.__next__())\n",
    "\n",
    "\n",
    "# Building Your Own Iterator in Python\n",
    "class PowTwo:\n",
    "    \"\"\"Class to implement an iterator\n",
    "    of powers of two\"\"\"\n",
    "\n",
    "    def __init__(self, max = 0):\n",
    "        self.max = max\n",
    "\n",
    "    def __iter__(self):\n",
    "        self.n = 0\n",
    "        return self\n",
    "\n",
    "    def __next__(self):\n",
    "        if self.n <= self.max:\n",
    "            result = 2 ** self.n\n",
    "            self.n += 1\n",
    "            return result\n",
    "        else:\n",
    "            raise StopIteration\n",
    "            \n",
    "a = PowTwo(4)\n",
    "i = iter(a)\n",
    "next(i)\n",
    "i.__next__()"
   ]
  },
  {
   "cell_type": "markdown",
   "metadata": {},
   "source": [
    "### Generator"
   ]
  },
  {
   "cell_type": "code",
   "execution_count": 100,
   "metadata": {},
   "outputs": [
    {
     "name": "stdout",
     "output_type": "stream",
     "text": [
      "o\n",
      "l\n",
      "l\n",
      "e\n",
      "h\n",
      "\n",
      "generator comprehension:  36\n"
     ]
    }
   ],
   "source": [
    "'''\n",
    "It is fairly simple to create a generator in Python. It is as easy as defining a normal function\n",
    "with yield statement instead of a return statement.\n",
    "\n",
    "'''\n",
    "def rev_str(my_str):\n",
    "    length = len(my_str)\n",
    "    for i in range(length - 1,-1,-1):\n",
    "        yield my_str[i]\n",
    "\n",
    "# For loop to reverse the string\n",
    "for char in rev_str(\"hello\"):\n",
    "     print(char)\n",
    "\n",
    "print()\n",
    "\n",
    "# Intialize the list\n",
    "my_list = [1, 3, 6, 10]\n",
    "\n",
    "a = (x**2 for x in my_list) # generator comprehension\n",
    "next(a)\n",
    "next(a)\n",
    "print(\"generator comprehension: \", next(a))\n"
   ]
  },
  {
   "cell_type": "markdown",
   "metadata": {},
   "source": [
    "### Closures"
   ]
  },
  {
   "cell_type": "code",
   "execution_count": 102,
   "metadata": {},
   "outputs": [
    {
     "name": "stdout",
     "output_type": "stream",
     "text": [
      "27\n",
      "15\n",
      "30\n"
     ]
    }
   ],
   "source": [
    "'''\n",
    "The criteria that must be met to create closure in Python are summarized in the following points.\n",
    "\n",
    "We must have a nested function (function inside a function).\n",
    "The nested function must refer to a value defined in the enclosing function.\n",
    "The enclosing function must return the nested function.\n",
    "'''\n",
    "\n",
    "def make_multiplier_of(n):\n",
    "    def multiplier(x):\n",
    "        return x * n\n",
    "    return multiplier\n",
    "\n",
    "# Multiplier of 3\n",
    "times3 = make_multiplier_of(3)\n",
    "\n",
    "# Multiplier of 5\n",
    "times5 = make_multiplier_of(5)\n",
    "\n",
    "# Output: 27\n",
    "print(times3(9))\n",
    "\n",
    "# Output: 15\n",
    "print(times5(3))\n",
    "\n",
    "# Output: 30\n",
    "print(times5(times3(2)))"
   ]
  },
  {
   "cell_type": "markdown",
   "metadata": {},
   "source": [
    "### Decorators"
   ]
  },
  {
   "cell_type": "markdown",
   "metadata": {},
   "source": [
    "### Property"
   ]
  },
  {
   "cell_type": "markdown",
   "metadata": {},
   "source": [
    "### RegEx"
   ]
  },
  {
   "cell_type": "markdown",
   "metadata": {},
   "source": [
    "## 7. Python Flow Control"
   ]
  },
  {
   "cell_type": "code",
   "execution_count": 40,
   "metadata": {},
   "outputs": [
    {
     "name": "stdout",
     "output_type": "stream",
     "text": [
      "Positive number\n"
     ]
    }
   ],
   "source": [
    "# Example of if...elif...else\n",
    "num = 3.4\n",
    "\n",
    "if num > 0:\n",
    "    print(\"Positive number\")\n",
    "elif num == 0:\n",
    "    print(\"Zero\")\n",
    "else:\n",
    "    print(\"Negative number\")"
   ]
  },
  {
   "cell_type": "code",
   "execution_count": 42,
   "metadata": {},
   "outputs": [
    {
     "name": "stdout",
     "output_type": "stream",
     "text": [
      "0\n",
      "1\n",
      "5\n",
      "No items left.\n",
      "Inside loop\n",
      "Inside loop\n",
      "Inside loop\n",
      "Inside else\n"
     ]
    }
   ],
   "source": [
    "# For Loop:\n",
    "# for val in sequence:\n",
    "#    Body of for\n",
    "\n",
    "digits = [0, 1, 5]\n",
    "# for loop with else\n",
    "# A for loop can have an optional else block as well. The else part is executed \n",
    "# if the items in the sequence used in for loop exhausts.\n",
    "# break statement can be used to stop a for loop. In such case, the else part is ignored.\n",
    "# Hence, a for loop's else part runs if no break occurs.\n",
    "\n",
    "for i in digits:\n",
    "    print(i)\n",
    "else:\n",
    "    print(\"No items left.\")\n",
    "\n",
    "\n",
    "# While Loop:\n",
    "# while test_expression:\n",
    "#    Body of while\n",
    "\n",
    "counter = 0\n",
    "# while loop with else example\n",
    "# The while loop can be terminated with a break statement. In such case, the else part is ignored. \n",
    "# Hence, a while loop's else part runs if no break occurs and the condition is false.\n",
    "while counter < 3:\n",
    "    print(\"Inside loop\")\n",
    "    counter = counter + 1\n",
    "else:\n",
    "    print(\"Inside else\")"
   ]
  },
  {
   "cell_type": "code",
   "execution_count": null,
   "metadata": {},
   "outputs": [],
   "source": []
  },
  {
   "cell_type": "code",
   "execution_count": 43,
   "metadata": {},
   "outputs": [],
   "source": [
    "# Python break, continue and pass"
   ]
  },
  {
   "cell_type": "code",
   "execution_count": 46,
   "metadata": {},
   "outputs": [
    {
     "name": "stdout",
     "output_type": "stream",
     "text": [
      "s\n",
      "t\n",
      "r\n",
      "n\n",
      "The end\n"
     ]
    }
   ],
   "source": [
    "for val in \"string\":\n",
    "    if val == \"i\":\n",
    "        continue\n",
    "    elif val == \"g\":\n",
    "        break\n",
    "    else:\n",
    "        '''\n",
    "        pass is a null statement. The difference between a comment \n",
    "        and pass statement in Python is that, while the interpreter \n",
    "        ignores a comment entirely, pass is not ignored.'''\n",
    "        pass\n",
    "    print(val)\n",
    "\n",
    "print(\"The end\")\n",
    "\n",
    "# We can do the same thing in an empty function or class as well.\n",
    "\n",
    "def function(args):\n",
    "    pass\n",
    "\n",
    "class example:\n",
    "    pass"
   ]
  },
  {
   "cell_type": "markdown",
   "metadata": {},
   "source": [
    "## 8. Python Comprehensions"
   ]
  },
  {
   "cell_type": "code",
   "execution_count": 10,
   "metadata": {},
   "outputs": [
    {
     "name": "stdout",
     "output_type": "stream",
     "text": [
      "A for-loop:  1 4 9 16 25 36 49 64 81 100 \n",
      "Equivalent LC code:  [1, 4, 9, 16, 25, 36, 49, 64, 81, 100]\n",
      "Output List using list comprehensions: [(1, 2), (1, 7), (2, 7), (3, 2), (3, 7)]\n",
      "Output List using list comprehensions: ['hello', 'world', 'in', 'python']\n",
      "Output Dictionary using dictionary comprehensions: {'India': 'New Delhi', 'Pakistan': 'Islamabad', 'Nepal': 'Kathmandu'}\n",
      "Output Set using set comprehensions: {2, 4, 6}\n",
      "Output values using generator comprehensions: 2 4 4 6 6 6 "
     ]
    }
   ],
   "source": [
    "# List Comprehensions:\n",
    "# output_list = [expression for_loop_one_or_more conditions]\n",
    "# output_list = [output_expression() for(set of values to iterate) if(conditional filtering)]\n",
    "'''\n",
    "# A for-loop:\n",
    "for (set of values to iterate):\n",
    "  if (conditional filtering): \n",
    "    output_expression()\n",
    "# Equivalent LC code   \n",
    "[ output_expression() for(set of values to iterate) if(conditional filtering) ]   \n",
    "\n",
    "'''\n",
    "print (\"A for-loop: \", end=' ')\n",
    "for i in range(1,101):      # the iterator\n",
    "    if int(i**0.5)==i**0.5: # conditional filtering\n",
    "        print (i, end=' ')  # output-expression\n",
    "\n",
    "print (\"\\nEquivalent LC code: \", [i for i in range(1,101) if int(i**0.5)==i**0.5])\n",
    "\n",
    "list_a = [1, 2, 3]\n",
    "list_b = [2, 7]\n",
    "\n",
    "different_num = [(a, b) for a in list_a for b in list_b if a != b]\n",
    "print(\"Output List using list comprehensions:\", different_num)\n",
    "\n",
    "list_a = [\"Hello\", \"World\", \"In\", \"Python\"]\n",
    "\n",
    "small_list_a = [str.lower() for str in list_a]\n",
    "\n",
    "print(\"Output List using list comprehensions:\", small_list_a)\n",
    "\n",
    "# Dictionary Comprehensions:\n",
    "# output_dict = {key:value for (key, value) in iterable if (key, value satisfy this condition)}\n",
    "country = ['India', 'Pakistan', 'Nepal']\n",
    "capital = ['New Delhi', 'Islamabad','Kathmandu']\n",
    "dict_using_comp = {key:value for (key, value) in zip(country, capital)} \n",
    "print(\"Output Dictionary using dictionary comprehensions:\", dict_using_comp) \n",
    "\n",
    "# Set Comprehensions:\n",
    "# output_set = {output_exp for var in input_list if (var satisfies this condition)}\n",
    "input_list = [1, 2, 3, 4, 4, 5, 6, 6, 6, 7, 7] \n",
    "set_using_comp = {var for var in input_list if var % 2 == 0}  \n",
    "print(\"Output Set using set comprehensions:\", set_using_comp) \n",
    "        \n",
    "# Generator Comprehensions:\n",
    "# output_gen = (output_exp for var in input_list if (var satisfies this condition))\n",
    "output_gen = (var for var in input_list if var % 2 == 0)  \n",
    "print(\"Output values using generator comprehensions:\", end = ' ') \n",
    "for var in output_gen: \n",
    "    print(var, end = ' ') "
   ]
  },
  {
   "cell_type": "markdown",
   "metadata": {},
   "source": [
    "## 9. Python Miscellaneous"
   ]
  },
  {
   "cell_type": "code",
   "execution_count": null,
   "metadata": {},
   "outputs": [],
   "source": []
  }
 ],
 "metadata": {
  "kernelspec": {
   "display_name": "Python 3",
   "language": "python",
   "name": "python3"
  },
  "language_info": {
   "codemirror_mode": {
    "name": "ipython",
    "version": 3
   },
   "file_extension": ".py",
   "mimetype": "text/x-python",
   "name": "python",
   "nbconvert_exporter": "python",
   "pygments_lexer": "ipython3",
   "version": "3.7.3"
  }
 },
 "nbformat": 4,
 "nbformat_minor": 2
}
