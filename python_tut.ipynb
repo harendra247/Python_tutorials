{
 "cells": [
  {
   "cell_type": "markdown",
   "metadata": {},
   "source": [
    "# Python cheat sheet for beginners"
   ]
  },
  {
   "cell_type": "markdown",
   "metadata": {},
   "source": [
    "## 1. Python Functions"
   ]
  },
  {
   "cell_type": "code",
   "execution_count": 1,
   "metadata": {},
   "outputs": [
    {
     "name": "stdout",
     "output_type": "stream",
     "text": [
      "Namaste Harendra !\n",
      "Namaste Harendra Singh!\n",
      "Namaste  !\n"
     ]
    }
   ],
   "source": [
    "'''\n",
    "def function_name(parameters=[default arguments]):\n",
    "    \"\"\"docstring\"\"\"\n",
    "    statement(s)\n",
    "    return [expression_list] #optional\n",
    "'''\n",
    "\n",
    "def greetings(first_name=\"\", last_name=\"\"):\n",
    "    \"\"\"This function greets to the person passed in as parameter\"\"\"\n",
    "    print(\"Namaste \" + first_name + \" \" + last_name + \"!\")\n",
    "    \n",
    "greetings(\"Harendra\")\n",
    "greetings(\"Harendra\", \"Singh\")\n",
    "greetings()"
   ]
  },
  {
   "cell_type": "code",
   "execution_count": 2,
   "metadata": {},
   "outputs": [
    {
     "name": "stdout",
     "output_type": "stream",
     "text": [
      "This function greets to the person passed in as parameter\n"
     ]
    }
   ],
   "source": [
    "print(greetings.__doc__)"
   ]
  },
  {
   "cell_type": "markdown",
   "metadata": {},
   "source": [
    "## 2. Anonymous/Lambda Functions"
   ]
  },
  {
   "cell_type": "code",
   "execution_count": 3,
   "metadata": {},
   "outputs": [
    {
     "name": "stdout",
     "output_type": "stream",
     "text": [
      "10\n"
     ]
    }
   ],
   "source": [
    "# lambda arguments: expression\n",
    "double = lambda x: x * 2\n",
    "\n",
    "# Output: 10\n",
    "print(double(5))"
   ]
  },
  {
   "cell_type": "markdown",
   "metadata": {},
   "source": [
    "## 3. Python Global, Local and Nonlocal variables\n"
   ]
  },
  {
   "cell_type": "code",
   "execution_count": 4,
   "metadata": {},
   "outputs": [
    {
     "name": "stdout",
     "output_type": "stream",
     "text": [
      "inner: nonlocal\n",
      "outer: nonlocal\n",
      "foo: globalglobal\n",
      "foo local\n"
     ]
    }
   ],
   "source": [
    "x = \"global\"\n",
    "\n",
    "def foo():\n",
    "    global x # Notice global keywoard\n",
    "    y = \"local\"\n",
    "    x = x * 2\n",
    "    print(\"foo:\", x)\n",
    "    print(\"foo\", y)\n",
    "\n",
    "def outer():\n",
    "    x = \"local\"\n",
    "    \n",
    "    def inner():\n",
    "        nonlocal x # Notice nonlocal keywoard\n",
    "        x = \"nonlocal\"\n",
    "        print(\"inner:\", x)\n",
    "    \n",
    "    inner()\n",
    "    print(\"outer:\", x)\n",
    "\n",
    "outer()\n",
    "foo()"
   ]
  },
  {
   "cell_type": "markdown",
   "metadata": {},
   "source": [
    "## 4. Python Data types"
   ]
  },
  {
   "cell_type": "markdown",
   "metadata": {},
   "source": [
    "## 5. Python Object Oriented Programming"
   ]
  },
  {
   "cell_type": "markdown",
   "metadata": {},
   "source": [
    "## 6. Python Advanced Topics"
   ]
  },
  {
   "cell_type": "markdown",
   "metadata": {},
   "source": [
    "## 7. Python Flow Control"
   ]
  },
  {
   "cell_type": "code",
   "execution_count": null,
   "metadata": {},
   "outputs": [],
   "source": [
    "# Python break, continue and pass"
   ]
  },
  {
   "cell_type": "markdown",
   "metadata": {},
   "source": [
    "## 8. Python Comprehensions"
   ]
  },
  {
   "cell_type": "code",
   "execution_count": null,
   "metadata": {},
   "outputs": [],
   "source": [
    "# List Comprehensions:\n",
    "# output_list = [expression for_loop_one_or_more conditions]\n",
    "# output_list = [output_exp for var in input_list if (var satisfies this condition)]\n",
    "list_a = [1, 2, 3]\n",
    "list_b = [2, 7]\n",
    "\n",
    "different_num = [(a, b) for a in list_a for b in list_b if a != b]\n",
    "print(\"Output List using list comprehensions:\", different_num)\n",
    "\n",
    "list_a = [\"Hello\", \"World\", \"In\", \"Python\"]\n",
    "\n",
    "small_list_a = [str.lower() for str in list_a]\n",
    "\n",
    "print(\"Output List using list comprehensions:\", small_list_a)\n",
    "\n",
    "# Dictionary Comprehensions:\n",
    "# output_dict = {key:value for (key, value) in iterable if (key, value satisfy this condition)}\n",
    "country = ['India', 'Pakistan', 'Nepal']\n",
    "capital = ['New Delhi', 'Islamabad','Kathmandu']\n",
    "dict_using_comp = {key:value for (key, value) in zip(country, capital)} \n",
    "print(\"Output Dictionary using dictionary comprehensions:\", dict_using_comp) \n",
    "\n",
    "# Set Comprehensions:\n",
    "# output_set = {output_exp for var in input_list if (var satisfies this condition)}\n",
    "input_list = [1, 2, 3, 4, 4, 5, 6, 6, 6, 7, 7] \n",
    "set_using_comp = {var for var in input_list if var % 2 == 0}  \n",
    "print(\"Output Set using set comprehensions:\", set_using_comp) \n",
    "        \n",
    "# Generator Comprehensions:\n",
    "# output_gen = (output_exp for var in input_list if (var satisfies this condition))\n",
    "output_gen = (var for var in input_list if var % 2 == 0)  \n",
    "print(\"Output values using generator comprehensions:\", end = ' ') \n",
    "for var in output_gen: \n",
    "    print(var, end = ' ') "
   ]
  },
  {
   "cell_type": "markdown",
   "metadata": {},
   "source": [
    "## 9. Python Miscellaneous"
   ]
  },
  {
   "cell_type": "code",
   "execution_count": null,
   "metadata": {},
   "outputs": [],
   "source": []
  }
 ],
 "metadata": {
  "kernelspec": {
   "display_name": "Python 3",
   "language": "python",
   "name": "python3"
  },
  "language_info": {
   "codemirror_mode": {
    "name": "ipython",
    "version": 3
   },
   "file_extension": ".py",
   "mimetype": "text/x-python",
   "name": "python",
   "nbconvert_exporter": "python",
   "pygments_lexer": "ipython3",
   "version": "3.7.3"
  }
 },
 "nbformat": 4,
 "nbformat_minor": 2
}
