{
 "cells": [
  {
   "cell_type": "markdown",
   "metadata": {},
   "source": [
    "# Python cheat sheet for beginners"
   ]
  },
  {
   "cell_type": "markdown",
   "metadata": {},
   "source": [
    "## 1. Python Functions"
   ]
  },
  {
   "cell_type": "code",
   "execution_count": 20,
   "metadata": {},
   "outputs": [
    {
     "name": "stdout",
     "output_type": "stream",
     "text": [
      "Namaste Harendra !\n",
      "Namaste Harendra Singh!\n",
      "Namaste  !\n",
      "\n",
      "This is the function 'outer_func'\n",
      "I am calling 'inner_func' now:\n",
      "Hi, it's me 'inner_func'\n",
      "Thanks for calling me\n",
      "\n",
      "Hi, it's me 'func_2'\n",
      "I will call 'func' now\n",
      "Hi, it's me 'func_1'\n",
      "Thanks for calling me\n",
      "\n",
      "Hi, it's me 'outer_func_1'\n",
      "Hi, it's me 'inner_func_1'\n",
      "\n"
     ]
    }
   ],
   "source": [
    "'''\n",
    "def function_name(parameters=[default arguments]):\n",
    "    \"\"\"docstring\"\"\"\n",
    "    statement(s)\n",
    "    return [expression_list] #optional\n",
    "'''\n",
    "\n",
    "def greetings(first_name=\"\", last_name=\"\"):\n",
    "    \"\"\"This function greets to the person passed in as parameter\"\"\"\n",
    "    print(\"Namaste \" + first_name + \" \" + last_name + \"!\")\n",
    "    \n",
    "greetings(\"Harendra\")\n",
    "greetings(\"Harendra\", \"Singh\")\n",
    "greetings()\n",
    "print()\n",
    "\n",
    "\n",
    "# Functions inside Functions\n",
    "def outer_func():\n",
    "    \n",
    "    def inner_func():\n",
    "        print(\"Hi, it's me 'inner_func'\")\n",
    "        print(\"Thanks for calling me\")\n",
    "        \n",
    "    print(\"This is the function 'outer_func'\")\n",
    "    print(\"I am calling 'inner_func' now:\")\n",
    "    inner_func()\n",
    "\n",
    "    \n",
    "outer_func()\n",
    "print()\n",
    "    \n",
    "# Functions as Parameters\n",
    "def func_1():\n",
    "    print(\"Hi, it's me 'func_1'\")\n",
    "    print(\"Thanks for calling me\")\n",
    "    \n",
    "def func_2(func):\n",
    "    print(\"Hi, it's me 'func_2'\")\n",
    "    print(\"I will call 'func' now\")\n",
    "    func()\n",
    "          \n",
    "func_2(func_1)\n",
    "print()\n",
    "\n",
    "# Functions returning Functions\n",
    "def outer_func_1(x):\n",
    "    def inner_func_1(y):\n",
    "        print(\"Hi, it's me 'inner_func_1'\")\n",
    "    print(\"Hi, it's me 'outer_func_1'\")\n",
    "    return inner_func_1\n",
    "\n",
    "nf1 = outer_func_1(1)\n",
    "nf1(1)\n",
    "print()"
   ]
  },
  {
   "cell_type": "code",
   "execution_count": 21,
   "metadata": {},
   "outputs": [
    {
     "name": "stdout",
     "output_type": "stream",
     "text": [
      "This function greets to the person passed in as parameter\n"
     ]
    }
   ],
   "source": [
    "print(greetings.__doc__)"
   ]
  },
  {
   "cell_type": "markdown",
   "metadata": {},
   "source": [
    "## 2. Anonymous/Lambda Functions"
   ]
  },
  {
   "cell_type": "code",
   "execution_count": 22,
   "metadata": {},
   "outputs": [
    {
     "name": "stdout",
     "output_type": "stream",
     "text": [
      "10\n"
     ]
    }
   ],
   "source": [
    "# lambda arguments: expression\n",
    "double = lambda x: x * 2\n",
    "\n",
    "# Output: 10\n",
    "print(double(5))"
   ]
  },
  {
   "cell_type": "markdown",
   "metadata": {},
   "source": [
    "## 3. Python Global, Local and Nonlocal Variables\n"
   ]
  },
  {
   "cell_type": "code",
   "execution_count": 23,
   "metadata": {},
   "outputs": [
    {
     "name": "stdout",
     "output_type": "stream",
     "text": [
      "inner: nonlocal\n",
      "outer: nonlocal\n",
      "foo: globalglobal\n",
      "foo local\n"
     ]
    }
   ],
   "source": [
    "x = \"global\"\n",
    "\n",
    "def foo():\n",
    "    global x # Notice global keywoard\n",
    "    y = \"local\"\n",
    "    x = x * 2\n",
    "    print(\"foo:\", x)\n",
    "    print(\"foo\", y)\n",
    "\n",
    "def outer():\n",
    "    x = \"local\"\n",
    "    \n",
    "    def inner():\n",
    "        nonlocal x # Notice nonlocal keywoard\n",
    "        x = \"nonlocal\"\n",
    "        print(\"inner:\", x)\n",
    "    \n",
    "    inner()\n",
    "    print(\"outer:\", x)\n",
    "\n",
    "outer()\n",
    "foo()"
   ]
  },
  {
   "cell_type": "markdown",
   "metadata": {},
   "source": [
    "## 4. Python Data types"
   ]
  },
  {
   "cell_type": "markdown",
   "metadata": {},
   "source": [
    "### List"
   ]
  },
  {
   "cell_type": "code",
   "execution_count": 24,
   "metadata": {},
   "outputs": [
    {
     "name": "stdout",
     "output_type": "stream",
     "text": [
      "o\n",
      "4\n",
      "['a']\n",
      "[8, 4, 6, 4]\n",
      "['o', 'g', 'r']\n",
      "['p', 'r', 'o', 'g']\n",
      "['a', 'm', 'i', 'z']\n",
      "['p', 'r', 'o', 'g', 'r', 'a', 'm', 'i', 'z']\n",
      "['p', 'r', 'g', 'r', 'a', 'm', 'i', 'z']\n",
      "['p', 'm', 'i', 'z']\n"
     ]
    }
   ],
   "source": [
    "# empty list\n",
    "my_list = []\n",
    "# list of integers\n",
    "my_list = [1, 2, 3]\n",
    "# list with mixed datatypes\n",
    "my_list = [1, \"Hello\", 3.4]\n",
    "# nested list\n",
    "my_list = [\"mouse\", [8, 4, 6, 4], ['a']]\n",
    "\n",
    "# List Index: Nested indexing\n",
    "print(my_list[0][1])    \n",
    "print(my_list[1][3])\n",
    "\n",
    "# Negative indexing: \n",
    "print(my_list[-1])\n",
    "print(my_list[-2])\n",
    "\n",
    "# Slice lists\n",
    "my_list = ['p','r','o','g','r','a','m','i','z']\n",
    "# elements 3rd to 5th\n",
    "print(my_list[2:5])\n",
    "# elements beginning to 4th\n",
    "print(my_list[:-5])\n",
    "# elements 6th to end\n",
    "print(my_list[5:])\n",
    "# elements beginning to end\n",
    "print(my_list[:])\n",
    "\n",
    "# delete one item\n",
    "del my_list[2]\n",
    "# Output: ['p', 'r', 'b', 'l', 'e', 'm']     \n",
    "print(my_list)\n",
    "# delete multiple items\n",
    "del my_list[1:5]  \n",
    "# Output: ['p', 'm']\n",
    "print(my_list)\n",
    "# delete entire list\n",
    "del my_list   "
   ]
  },
  {
   "cell_type": "markdown",
   "metadata": {},
   "source": [
    "### Tuple"
   ]
  },
  {
   "cell_type": "code",
   "execution_count": 25,
   "metadata": {},
   "outputs": [
    {
     "name": "stdout",
     "output_type": "stream",
     "text": [
      "()\n",
      "(1, 2, 3)\n",
      "(1, 'Hello', 3.4)\n",
      "('mouse', [8, 4, 6], (1, 2, 3))\n",
      "<class 'str'>\n",
      "<class 'tuple'>\n",
      "<class 'tuple'>\n",
      "s\n",
      "4\n",
      "(1, 2, 3)\n"
     ]
    }
   ],
   "source": [
    "# A tuple in Python is similar to a list. The difference between the two is that we cannot change the elements of a tuple once it is assigned whereas, in a list, elements can be changed.\n",
    "\n",
    "# Empty tuple\n",
    "my_tuple = ()\n",
    "print(my_tuple)\n",
    "\n",
    "# Tuple having integers\n",
    "my_tuple = (1, 2, 3)\n",
    "print(my_tuple)  \n",
    "\n",
    "# tuple with mixed datatypes\n",
    "my_tuple = 1, \"Hello\", 3.4 # A tuple can also be created without using parentheses. This is known as tuple packing.\n",
    "print(my_tuple)\n",
    "# tuple unpacking is also possible\n",
    "a, b, c = my_tuple\n",
    "\n",
    "# nested tuple\n",
    "my_tuple = (\"mouse\", [8, 4, 6], (1, 2, 3))\n",
    "\n",
    "print(my_tuple)\n",
    "\n",
    "# Creating a tuple with one element is a bit tricky.\n",
    "my_tuple = (\"hello\")\n",
    "print(type(my_tuple))  # <class 'str'>\n",
    "\n",
    "# Creating a tuple having one element\n",
    "my_tuple = (\"hello\",)  \n",
    "print(type(my_tuple))  # <class 'tuple'> \n",
    "\n",
    "# Parentheses is optional\n",
    "my_tuple = \"hello\",\n",
    "print(type(my_tuple))  # <class 'tuple'> \n",
    "\n",
    "# nested tuple\n",
    "n_tuple = (\"mouse\", [8, 4, 6], (1, 2, 3))\n",
    "\n",
    "# nested index\n",
    "print(n_tuple[0][3])       # 's'\n",
    "print(n_tuple[1][1])       # 4\n",
    "# Negative Indexing\n",
    "print(n_tuple[-1]) \n",
    "\n",
    "# Changing a Tuple\n",
    "# Unlike lists, tuples are immutable.\n"
   ]
  },
  {
   "cell_type": "markdown",
   "metadata": {},
   "source": [
    "### Sets"
   ]
  },
  {
   "cell_type": "code",
   "execution_count": 26,
   "metadata": {},
   "outputs": [
    {
     "name": "stdout",
     "output_type": "stream",
     "text": [
      "{1, 2, 3}\n",
      "{1.0, 'Hello', (1, 2, 3)}\n",
      "{1, 2, 3}\n"
     ]
    }
   ],
   "source": [
    "'''\n",
    "A set is an unordered collection of items. Every element is unique (no duplicates) and must be immutable (which cannot be changed).\n",
    "\n",
    "However, the set itself is mutable. We can add or remove items from it.\n",
    "\n",
    "Sets can be used to perform mathematical set operations like union, intersection, symmetric difference etc.\n",
    "'''\n",
    "\n",
    "# initialize a with {}\n",
    "a = {}\n",
    "# initialize a with set()\n",
    "a = set()\n",
    "\n",
    "# set of integers\n",
    "my_set = {1, 2, 3}\n",
    "print(my_set)\n",
    "\n",
    "# set of mixed datatypes\n",
    "my_set = {1.0, \"Hello\", (1, 2, 3)}\n",
    "print(my_set)\n",
    "my_set = set([1,2,3,2])\n",
    "print(my_set)\n",
    "\n",
    "# Python Frozenset\n",
    "# Frozenset is a new class that has the characteristics of a set, but its elements cannot be changed once assigned. While tuples are immutable lists, frozensets are immutable sets.\n",
    "# initialize A and B\n",
    "A = frozenset([1, 2, 3, 4])\n",
    "B = frozenset([3, 4, 5, 6])\n",
    "\n"
   ]
  },
  {
   "cell_type": "markdown",
   "metadata": {},
   "source": [
    "### Dictionary"
   ]
  },
  {
   "cell_type": "code",
   "execution_count": 27,
   "metadata": {},
   "outputs": [
    {
     "name": "stdout",
     "output_type": "stream",
     "text": [
      "{}\n",
      "{1: 'apple', 2: 'ball'}\n",
      "{'name': 'John', 1: [2, 4, 3]}\n",
      "{1: 'apple', 2: 'ball'}\n",
      "{1: 'apple', 2: 'ball'}\n",
      "apple\n",
      "{1: 'banana', 2: 'ball'}\n",
      "{1: 1, 3: 9, 5: 25, 7: 49, 9: 81}\n"
     ]
    }
   ],
   "source": [
    "'''\n",
    "Python dictionary is an unordered collection of items. While other compound data \n",
    "types have only value as an element, a dictionary has a key: value pair.'''\n",
    "\n",
    "# empty dictionary\n",
    "my_dict = {}\n",
    "print (my_dict)\n",
    "# dictionary with integer keys\n",
    "my_dict = {1: 'apple', 2: 'ball'}\n",
    "print (my_dict)\n",
    "# dictionary with mixed keys\n",
    "my_dict = {'name': 'John', 1: [2, 4, 3]}\n",
    "print (my_dict)\n",
    "# using dict()\n",
    "my_dict = dict({1:'apple', 2:'ball'})\n",
    "print (my_dict)\n",
    "# from sequence having each item as a pair\n",
    "my_dict = dict([(1,'apple'), (2,'ball')])\n",
    "print (my_dict)\n",
    "\n",
    "print(my_dict[1])\n",
    "# update value\n",
    "my_dict[1] = 'banana' # Dictionary are mutable.\n",
    "print(my_dict)\n",
    "\n",
    "odd_squares = {x: x*x for x in range(11) if x%2 == 1} # A dictionary comprehension\n",
    "print(odd_squares)"
   ]
  },
  {
   "cell_type": "markdown",
   "metadata": {},
   "source": [
    "\n",
    "### String Number"
   ]
  },
  {
   "cell_type": "code",
   "execution_count": 28,
   "metadata": {},
   "outputs": [
    {
     "name": "stdout",
     "output_type": "stream",
     "text": [
      "str =  harendratest\n",
      "str[0] =  h\n",
      "str[-1] =  t\n",
      "str[1:5] =  aren\n",
      "str[5:-2] =  drate\n",
      "\n",
      "--- Default Order ---\n",
      "harendra, hhh and singh\n",
      "\n",
      "--- Positional Order ---\n",
      "hhh, harendra and singh\n",
      "\n",
      "--- Keyword Order ---\n",
      "Joe, Ann and Cox\n",
      "list(enumerate(str) =  [(0, 'h'), (1, 'a'), (2, 'r'), (3, 'e'), (4, 'n'), (5, 'd'), (6, 'r'), (7, 'a'), (8, 's'), (9, 's'), (10, 's')]\n",
      "hahhh\n",
      "AANNN\n",
      "['This', 'will', 'split', 'all', 'words', 'into', 'a', 'list']\n",
      "This will join all words into a string\n",
      "5\n",
      "Good Day\n",
      "The value of x is 12.35\n"
     ]
    }
   ],
   "source": [
    "str = 'harendratest'\n",
    "print('str = ', str)\n",
    "\n",
    "#first character\n",
    "print('str[0] = ', str[0])\n",
    "\n",
    "#last character\n",
    "print('str[-1] = ', str[-1])\n",
    "\n",
    "#slicing 2nd to 5th character\n",
    "print('str[1:5] = ', str[1:5])\n",
    "\n",
    "#slicing 6th to 2nd last character\n",
    "print('str[5:-2] = ', str[5:-2])\n",
    "\n",
    "# default(implicit) order\n",
    "default_order = \"{}, {} and {}\".format('harendra','hhh','singh')\n",
    "print('\\n--- Default Order ---')\n",
    "print(default_order)\n",
    "\n",
    "# order using positional argument\n",
    "positional_order = \"{1}, {0} and {2}\".format('harendra','hhh','singh')\n",
    "print('\\n--- Positional Order ---')\n",
    "print(positional_order)\n",
    "\n",
    "# order using keyword argument\n",
    "keyword_order = \"{d}, {g} and {c}\".format(g='Ann',c='Cox',d='Joe')\n",
    "print('\\n--- Keyword Order ---')\n",
    "print(keyword_order)\n",
    "\n",
    "my_string = 'harendrasss'\n",
    "# my_string[5] = 'a' # Strings are immutable. Not possible\n",
    "# enumerate()\n",
    "list_enumerate = list(enumerate(my_string))\n",
    "print('list(enumerate(str) = ', list_enumerate)\n",
    "\n",
    "# Common Python String Methods\n",
    "print (\"haHHH\".lower())\n",
    "print (\"aannn\".upper())\n",
    "print (\"This will split all words into a list\".split())\n",
    "print (' '.join(['This', 'will', 'join', 'all', 'words', 'into', 'a', 'string']))\n",
    "print ('Good Morning'.find('Mo'))\n",
    "print ('Good Morning'.replace('Morning','Day'))\n",
    "\n",
    "\n",
    "x = 12.3456789\n",
    "print('The value of x is %3.2f' %x) # Old style formatting\n"
   ]
  },
  {
   "cell_type": "markdown",
   "metadata": {},
   "source": [
    "## 5. Python Object Oriented Programming"
   ]
  },
  {
   "cell_type": "markdown",
   "metadata": {},
   "source": [
    "### Class, Object, Methods, Attributes, Behaviour "
   ]
  },
  {
   "cell_type": "code",
   "execution_count": 29,
   "metadata": {},
   "outputs": [
    {
     "name": "stdout",
     "output_type": "stream",
     "text": [
      "Blu is a bird\n",
      "Woo is also a bird\n",
      "Blu is 10 years old\n",
      "Woo is 15 years old\n",
      "Blu sings 'Happy'\n",
      "Blu is now dancing\n"
     ]
    }
   ],
   "source": [
    "class Peacock:\n",
    "\n",
    "    # class attribute : Class attributes are same for all instances of a class.\n",
    "    species = \"bird\"\n",
    "\n",
    "    # instance attribute\n",
    "    def __init__(self, name, age):\n",
    "        self.name = name\n",
    "        self.age = age\n",
    "    \n",
    "    # instance method\n",
    "    def sing(self, song):\n",
    "        return \"{} sings {}\".format(self.name, song)\n",
    "\n",
    "    def dance(self):\n",
    "        return \"{} is now dancing\".format(self.name)\n",
    "\n",
    "# instantiate the Peacock class\n",
    "blu = Peacock(\"Blu\", 10)\n",
    "woo = Peacock(\"Woo\", 15)\n",
    "\n",
    "# access the class attributes\n",
    "print(\"Blu is a {}\".format(blu.__class__.species))\n",
    "print(\"Woo is also a {}\".format(woo.__class__.species))\n",
    "\n",
    "# access the instance attributes\n",
    "print(\"{} is {} years old\".format( blu.name, blu.age))\n",
    "print(\"{} is {} years old\".format( woo.name, woo.age))\n",
    "\n",
    "# call our instance methods\n",
    "print(blu.sing(\"'Happy'\"))\n",
    "print(blu.dance())"
   ]
  },
  {
   "cell_type": "markdown",
   "metadata": {},
   "source": [
    "### Inheritance"
   ]
  },
  {
   "cell_type": "code",
   "execution_count": 30,
   "metadata": {},
   "outputs": [
    {
     "name": "stdout",
     "output_type": "stream",
     "text": [
      "Bird is ready\n",
      "Eagle is ready\n",
      "Eagle\n",
      "Fly faster\n",
      "Run faster\n"
     ]
    }
   ],
   "source": [
    "# parent class\n",
    "class Bird:\n",
    "    \n",
    "    def __init__(self):\n",
    "        print(\"Bird is ready\")\n",
    "\n",
    "    def whoisThis(self):\n",
    "        print(\"Bird\")\n",
    "\n",
    "    def fly(self):\n",
    "        print(\"Fly faster\")\n",
    "\n",
    "# child class\n",
    "class Eagle(Bird):\n",
    "\n",
    "    def __init__(self):\n",
    "        # call super() function\n",
    "        super().__init__()\n",
    "        print(\"Eagle is ready\")\n",
    "\n",
    "    def whoisThis(self):\n",
    "        print(\"Eagle\")\n",
    "\n",
    "    def run(self):\n",
    "        print(\"Run faster\")\n",
    "\n",
    "peggy = Eagle()\n",
    "peggy.whoisThis()\n",
    "peggy.fly()\n",
    "peggy.run()"
   ]
  },
  {
   "cell_type": "markdown",
   "metadata": {},
   "source": [
    "### Encapsulation"
   ]
  },
  {
   "cell_type": "code",
   "execution_count": 31,
   "metadata": {},
   "outputs": [
    {
     "name": "stdout",
     "output_type": "stream",
     "text": [
      "Selling Price: 900\n",
      "Selling Price: 900\n",
      "Selling Price: 1000\n"
     ]
    }
   ],
   "source": [
    "class Computer:\n",
    "\n",
    "    def __init__(self):\n",
    "        self.__maxprice = 900 # private attribute using underscore as prefix i.e single “ _ “ or double “ __“.\n",
    "\n",
    "    def sell(self):\n",
    "        print(\"Selling Price: {}\".format(self.__maxprice))\n",
    "\n",
    "    def setMaxPrice(self, price):\n",
    "        self.__maxprice = price\n",
    "\n",
    "c = Computer()\n",
    "c.sell()\n",
    "\n",
    "# change the price\n",
    "c.__maxprice = 1000\n",
    "c.sell()\n",
    "\n",
    "# using setter function\n",
    "c.setMaxPrice(1000)\n",
    "c.sell()"
   ]
  },
  {
   "cell_type": "markdown",
   "metadata": {},
   "source": [
    "### Polymorphism"
   ]
  },
  {
   "cell_type": "code",
   "execution_count": 32,
   "metadata": {},
   "outputs": [
    {
     "name": "stdout",
     "output_type": "stream",
     "text": [
      "Duck can't fly\n",
      "Lion can't fly\n"
     ]
    }
   ],
   "source": [
    "class Duck:\n",
    "\n",
    "    def fly(self):\n",
    "        print(\"Duck can't fly\")\n",
    "    \n",
    "    def swim(self):\n",
    "        print(\"Duck can swim\")\n",
    "\n",
    "class Lion:\n",
    "\n",
    "    def fly(self):\n",
    "        print(\"Lion can't fly\")\n",
    "    \n",
    "    def swim(self):\n",
    "        print(\"Lion can swim\")\n",
    "\n",
    "# common interface\n",
    "def flying_test(bird):\n",
    "    bird.fly()\n",
    "\n",
    "#instantiate objects\n",
    "tomy = Duck()\n",
    "ossy = Lion()\n",
    "\n",
    "# passing the object\n",
    "flying_test(tomy)\n",
    "flying_test(ossy)"
   ]
  },
  {
   "cell_type": "markdown",
   "metadata": {},
   "source": [
    "### Special Functions Class in Python"
   ]
  },
  {
   "cell_type": "code",
   "execution_count": 33,
   "metadata": {},
   "outputs": [
    {
     "name": "stdout",
     "output_type": "stream",
     "text": [
      "+ operator overloaded:  (1,5)\n",
      "- operator overloaded:  (3,1)\n",
      "lt (<) operator overloaded:  True\n"
     ]
    }
   ],
   "source": [
    "class Point:\n",
    "    def __init__(self, x = 0, y = 0): # Constuctor \n",
    "        self.x = x\n",
    "        self.y = y\n",
    "    \n",
    "    def __str__(self):\n",
    "        return \"({0},{1})\".format(self.x,self.y)\n",
    "    \n",
    "    def __add__(self,other): # + operator overloading\n",
    "        x = self.x + other.x\n",
    "        y = self.y + other.y\n",
    "        return Point(x,y)\n",
    "\n",
    "    def __sub__(self,other): # - operator overloading\n",
    "        x = self.x - other.x\n",
    "        y = self.y - other.y\n",
    "        return Point(x,y)\n",
    "    \n",
    "    def __lt__(self,other):\n",
    "        self_mag = (self.x ** 2) + (self.y ** 2)\n",
    "        other_mag = (other.x ** 2) + (other.y ** 2)\n",
    "        return self_mag < other_mag\n",
    "    \n",
    "p1 = Point(2,3)\n",
    "p2 = Point(-1,2)\n",
    "print(\"+ operator overloaded: \", p1 + p2)\n",
    "print(\"- operator overloaded: \", p1 - p2)\n",
    "\n",
    "print(\"lt (<) operator overloaded: \", Point(1,1) < Point(-2,-3))"
   ]
  },
  {
   "cell_type": "markdown",
   "metadata": {},
   "source": [
    "## 6. Python Advanced Topics"
   ]
  },
  {
   "cell_type": "markdown",
   "metadata": {},
   "source": [
    "### Iterator"
   ]
  },
  {
   "cell_type": "code",
   "execution_count": 34,
   "metadata": {},
   "outputs": [
    {
     "name": "stdout",
     "output_type": "stream",
     "text": [
      "4\n",
      "7\n"
     ]
    },
    {
     "data": {
      "text/plain": [
       "2"
      ]
     },
     "execution_count": 34,
     "metadata": {},
     "output_type": "execute_result"
    }
   ],
   "source": [
    "'''\n",
    "Iterator in Python is simply an object that can be iterated upon. An object which will return data, one \n",
    "element at a time. Technically speaking, Python iterator object must implement two special methods,\n",
    "__iter__() and __next__(), collectively called the iterator protocol. Keep track of internal states, \n",
    "raise StopIteration when there was no values to be returned etc. An object is called iterable if we can \n",
    "get an iterator from it. Most of built-in containers in Python like: list, tuple, string etc. are iterables.'''\n",
    "\n",
    "# define a list\n",
    "my_list = [4, 7, 0, 3]\n",
    "\n",
    "# get an iterator using iter()\n",
    "my_iter = iter(my_list)\n",
    "\n",
    "## iterate through it using next() and __next__()\n",
    "\n",
    "#prints 4\n",
    "print(next(my_iter))\n",
    "\n",
    "#prints 7\n",
    "print(my_iter.__next__())\n",
    "\n",
    "\n",
    "# Building Your Own Iterator in Python\n",
    "class PowTwo:\n",
    "    \"\"\"Class to implement an iterator\n",
    "    of powers of two\"\"\"\n",
    "\n",
    "    def __init__(self, max = 0):\n",
    "        self.max = max\n",
    "\n",
    "    def __iter__(self):\n",
    "        self.n = 0\n",
    "        return self\n",
    "\n",
    "    def __next__(self):\n",
    "        if self.n <= self.max:\n",
    "            result = 2 ** self.n\n",
    "            self.n += 1\n",
    "            return result\n",
    "        else:\n",
    "            raise StopIteration\n",
    "            \n",
    "a = PowTwo(4)\n",
    "i = iter(a)\n",
    "next(i)\n",
    "i.__next__()"
   ]
  },
  {
   "cell_type": "markdown",
   "metadata": {},
   "source": [
    "### Generator"
   ]
  },
  {
   "cell_type": "code",
   "execution_count": 35,
   "metadata": {},
   "outputs": [
    {
     "name": "stdout",
     "output_type": "stream",
     "text": [
      "o\n",
      "l\n",
      "l\n",
      "e\n",
      "h\n",
      "\n",
      "generator comprehension:  36\n"
     ]
    }
   ],
   "source": [
    "'''\n",
    "It is fairly simple to create a generator in Python. It is as easy as defining a normal function\n",
    "with yield statement instead of a return statement.\n",
    "\n",
    "'''\n",
    "def rev_str(my_str):\n",
    "    length = len(my_str)\n",
    "    for i in range(length - 1,-1,-1):\n",
    "        yield my_str[i]\n",
    "\n",
    "# For loop to reverse the string\n",
    "for char in rev_str(\"hello\"):\n",
    "     print(char)\n",
    "\n",
    "print()\n",
    "\n",
    "# Intialize the list\n",
    "my_list = [1, 3, 6, 10]\n",
    "\n",
    "a = (x**2 for x in my_list) # generator comprehension\n",
    "next(a)\n",
    "next(a)\n",
    "print(\"generator comprehension: \", next(a))\n"
   ]
  },
  {
   "cell_type": "markdown",
   "metadata": {},
   "source": [
    "### Closures"
   ]
  },
  {
   "cell_type": "code",
   "execution_count": 36,
   "metadata": {},
   "outputs": [
    {
     "name": "stdout",
     "output_type": "stream",
     "text": [
      "27\n",
      "15\n",
      "30\n"
     ]
    }
   ],
   "source": [
    "'''\n",
    "The criteria that must be met to create closure in Python are summarized in the following points.\n",
    "\n",
    "We must have a nested function (function inside a function).\n",
    "The nested function must refer to a value defined in the enclosing function.\n",
    "The enclosing function must return the nested function.\n",
    "'''\n",
    "\n",
    "def make_multiplier_of(n):\n",
    "    def multiplier(x):\n",
    "        return x * n\n",
    "    return multiplier\n",
    "\n",
    "# Multiplier of 3\n",
    "times3 = make_multiplier_of(3)\n",
    "\n",
    "# Multiplier of 5\n",
    "times5 = make_multiplier_of(5)\n",
    "\n",
    "# Output: 27\n",
    "print(times3(9))\n",
    "\n",
    "# Output: 15\n",
    "print(times5(3))\n",
    "\n",
    "# Output: 30\n",
    "print(times5(times3(2)))"
   ]
  },
  {
   "cell_type": "markdown",
   "metadata": {},
   "source": [
    "### Decorators\n",
    "\n",
    "\n",
    "In Python, functions are the first class objects, which means that –\n",
    "\n",
    "Functions are objects; they can be referenced to, passed to a variable and returned from other functions as well.\n",
    "Functions can be defined inside another function and can also be passed as argument to another function.\n",
    "Decorators are very powerful and useful tool in Python since it allows programmers to modify the behavior of function or class. Decorators allow us to wrap another function in order to extend the behavior of wrapped function, without permanently modifying it.\n",
    "\n",
    "In Decorators, functions are taken as the argument into another function and then called inside the wrapper function.\n",
    "We have two different kinds of decorators in Python:\n",
    "Function decorators\n",
    "Class decorators\n",
    "\n",
    "\n",
    "Use cases\n",
    "Counting Function Calls with Decorators\n",
    "Checking Arguments with a Decorator"
   ]
  },
  {
   "cell_type": "code",
   "execution_count": 37,
   "metadata": {},
   "outputs": [
    {
     "name": "stdout",
     "output_type": "stream",
     "text": [
      "We call foo before decoration:\n",
      "Hi, foo has been called with  Hi\n",
      "We now decorate foo with f:\n",
      "We call foo after decoration:\n",
      "Before execution foo\n",
      "Hi, foo has been called with  42\n",
      "After execution foo\n",
      "Before execution sum_two_numbers\n",
      "Inside the function\n",
      "After execution sum_two_numbers\n",
      "Sum = 3\n",
      "function name:  inner_wrapper\n",
      "docstring:  None\n",
      "module name:  __main__\n"
     ]
    }
   ],
   "source": [
    "'''\n",
    "# syntax\n",
    "\n",
    "def proxy(func):\n",
    "    def wrapper(*args, **kwargs):\n",
    "        return func(*args, **kwargs)\n",
    "    return wrapper\n",
    "    \n",
    "'''\n",
    "\n",
    "def func_decorator(func): \n",
    "\tdef inner_wrapper(*args, **kwargs): \n",
    "\t\t\n",
    "\t\tprint(\"Before execution \" + func.__name__)\n",
    "\t\t# getting the returned value \n",
    "\t\treturned_value = func(*args, **kwargs) \n",
    "\t\tprint(\"After execution \" + func.__name__) \n",
    "\t\t\n",
    "\t\t# returning the value to the original frame \n",
    "\t\treturn returned_value \n",
    "\t\t\n",
    "\treturn inner_wrapper \n",
    "\n",
    "def foo(x):\n",
    "    print(\"Hi, foo has been called with \", x)\n",
    "\n",
    "print(\"We call foo before decoration:\")\n",
    "foo(\"Hi\")\n",
    "    \n",
    "print(\"We now decorate foo with f:\")\n",
    "foo = func_decorator(foo)\n",
    "\n",
    "print(\"We call foo after decoration:\")\n",
    "foo(42)\n",
    "\n",
    "\n",
    "# The Usual Syntax for Decorators\n",
    "@func_decorator\n",
    "def sum_two_numbers(a, b):\n",
    "    \"\"\" just some silly function \"\"\"\n",
    "    print(\"Inside the function\") \n",
    "    return a + b \n",
    "\n",
    "a, b = 1, 2\n",
    "# getting the value through return of the function \n",
    "print(\"Sum =\", sum_two_numbers(a, b)) \n",
    "print(\"function name: \", sum_two_numbers.__name__)\n",
    "print(\"docstring: \", sum_two_numbers.__doc__)\n",
    "print(\"module name: \", sum_two_numbers.__module__)\n"
   ]
  },
  {
   "cell_type": "code",
   "execution_count": 38,
   "metadata": {},
   "outputs": [],
   "source": [
    "# Classes instead of Functions"
   ]
  },
  {
   "cell_type": "code",
   "execution_count": 39,
   "metadata": {},
   "outputs": [
    {
     "name": "stdout",
     "output_type": "stream",
     "text": [
      "An instance of A was initialized\n",
      "now calling the instance:\n",
      "Arguments are: (3, 4) {'x': 11, 'y': 10}\n",
      "Let's call it again:\n",
      "Arguments are: (3, 4) {'x': 11, 'y': 10}\n",
      "Decorating func_foo\n",
      "inside func_foo()\n"
     ]
    }
   ],
   "source": [
    "# The __call__ method\n",
    "class A:\n",
    "    \n",
    "    def __init__(self):\n",
    "        print(\"An instance of A was initialized\")\n",
    "    \n",
    "    def __call__(self, *args, **kwargs):\n",
    "        print(\"Arguments are:\", args, kwargs)\n",
    "              \n",
    "x = A()\n",
    "print(\"now calling the instance:\")\n",
    "x(3, 4, x=11, y=10)\n",
    "print(\"Let's call it again:\")\n",
    "x(3, 4, x=11, y=10)\n",
    "\n",
    "\n",
    "# Using a Class as a Decorator\n",
    "class class_as_decorator:\n",
    "    \n",
    "    def __init__(self, f):\n",
    "        self.f = f\n",
    "        \n",
    "    def __call__(self):\n",
    "        print(\"Decorating\", self.f.__name__)\n",
    "        self.f()\n",
    "\n",
    "@class_as_decorator\n",
    "def func_foo():\n",
    "    print(\"inside func_foo()\")\n",
    "\n",
    "func_foo()"
   ]
  },
  {
   "cell_type": "markdown",
   "metadata": {},
   "source": [
    "### Property"
   ]
  },
  {
   "cell_type": "code",
   "execution_count": 66,
   "metadata": {},
   "outputs": [
    {
     "name": "stdout",
     "output_type": "stream",
     "text": [
      "---------------\n",
      "1000\n"
     ]
    }
   ],
   "source": [
    "'''\n",
    "#Suppose we have a class like this \n",
    "\n",
    "class P:\n",
    "\n",
    "    def __init__(self,x):\n",
    "        self.x = x\n",
    "# Let's assume we want to change the implementation like this: \n",
    "# The attribute x can have values between 0 and 1000. If a value larger \n",
    "# than 1000 is assigned, x should be set to 1000. Correspondingly, x should \n",
    "# be set to 0, if the value is less than 0. \n",
    "'''\n",
    "class P:\n",
    "\n",
    "    def __init__(self,x):\n",
    "        self.x = x\n",
    "\n",
    "    @property\n",
    "    def x(self):\n",
    "        return self.__x\n",
    "\n",
    "    @x.setter\n",
    "    def x(self, x):\n",
    "        if x < 0:\n",
    "            self.__x = 0\n",
    "        elif x > 1000:\n",
    "            self.__x = 1000\n",
    "        else:\n",
    "            self.__x = x\n",
    "\n",
    "        \n",
    "        \n",
    "p1 = P(42)\n",
    "p2 = P(4711)\n",
    "p1.x = 47\n",
    "p1.x = p1.x + p2.x\n",
    "p1.x\n",
    "\n",
    "print(\"---------------\")\n",
    "\n",
    "# Another way to do same \n",
    "# Even though we fixed this problem by using a private getter and setter, \n",
    "# the version with the decorator \"@property\" is the Pythonic way to do it! \n",
    "class P_1:\n",
    "\n",
    "    def __init__(self,x):\n",
    "        self.__set_x(x)\n",
    "\n",
    "    def __get_x(self):\n",
    "        return self.__x\n",
    "\n",
    "    def __set_x(self, x):\n",
    "        if x < 0:\n",
    "            self.__x = 0\n",
    "        elif x > 1000:\n",
    "            self.__x = 1000\n",
    "        else:\n",
    "            self.__x = x\n",
    "\n",
    "    x = property(__get_x, __set_x)\n",
    "\n",
    "    '''\n",
    "    # In Python, property() is a built-in function that creates and returns a property object.\n",
    "    # The signature of this function is\n",
    "\n",
    "    # property(fget=None, fset=None, fdel=None, doc=None)\n",
    "    # where, fget is function to get value of the attribute, fset is function to set value of the \n",
    "    # attribute, fdel is function to delete the attribute and doc is a string (like a comment). \n",
    "    # As seen from the implementation, these function arguments are optional. So, a property \n",
    "    # object can simply be created as follows.\n",
    "\n",
    "    # A property object has three methods, getter(), setter(), and deleter() to specify fget, \n",
    "    # fset and fdel at a later point. This means, the line\n",
    "\n",
    "    x = property(__get_x, __set_x)\n",
    "    # could have been broken down as\n",
    "\n",
    "    # make empty property\n",
    "    x = property()\n",
    "    # assign fget\n",
    "    x = x.getter(__get_x)\n",
    "    # assign fset\n",
    "    x = x.setter(__set_x)\n",
    "    # These two pieces of codes are equivalent.'''\n",
    "    \n",
    "p1 = P_1(42)\n",
    "p2 = P_1(4711)\n",
    "p1.x = 47\n",
    "p1.x = p1.x + p2.x\n",
    "p1.x\n",
    "print(p1.x)\n"
   ]
  },
  {
   "cell_type": "markdown",
   "metadata": {},
   "source": [
    "### RegEx"
   ]
  },
  {
   "cell_type": "code",
   "execution_count": 54,
   "metadata": {},
   "outputs": [
    {
     "name": "stdout",
     "output_type": "stream",
     "text": [
      "<re.Match object; span=(2, 5), match='cat'>\n"
     ]
    }
   ],
   "source": [
    "import re\n",
    "\n",
    "x = re.search(\"cat\",\"A cat and a rat can't be friends.\")\n",
    "print (x)"
   ]
  },
  {
   "cell_type": "markdown",
   "metadata": {},
   "source": [
    "## 7. Python Flow Control"
   ]
  },
  {
   "cell_type": "code",
   "execution_count": 40,
   "metadata": {},
   "outputs": [
    {
     "name": "stdout",
     "output_type": "stream",
     "text": [
      "Positive number\n"
     ]
    }
   ],
   "source": [
    "# Example of if...elif...else\n",
    "num = 3.4\n",
    "\n",
    "if num > 0:\n",
    "    print(\"Positive number\")\n",
    "elif num == 0:\n",
    "    print(\"Zero\")\n",
    "else:\n",
    "    print(\"Negative number\")"
   ]
  },
  {
   "cell_type": "code",
   "execution_count": 42,
   "metadata": {},
   "outputs": [
    {
     "name": "stdout",
     "output_type": "stream",
     "text": [
      "0\n",
      "1\n",
      "5\n",
      "No items left.\n",
      "Inside loop\n",
      "Inside loop\n",
      "Inside loop\n",
      "Inside else\n"
     ]
    }
   ],
   "source": [
    "# For Loop:\n",
    "# for val in sequence:\n",
    "#    Body of for\n",
    "\n",
    "digits = [0, 1, 5]\n",
    "# for loop with else\n",
    "# A for loop can have an optional else block as well. The else part is executed \n",
    "# if the items in the sequence used in for loop exhausts.\n",
    "# break statement can be used to stop a for loop. In such case, the else part is ignored.\n",
    "# Hence, a for loop's else part runs if no break occurs.\n",
    "\n",
    "for i in digits:\n",
    "    print(i)\n",
    "else:\n",
    "    print(\"No items left.\")\n",
    "\n",
    "\n",
    "# While Loop:\n",
    "# while test_expression:\n",
    "#    Body of while\n",
    "\n",
    "counter = 0\n",
    "# while loop with else example\n",
    "# The while loop can be terminated with a break statement. In such case, the else part is ignored. \n",
    "# Hence, a while loop's else part runs if no break occurs and the condition is false.\n",
    "while counter < 3:\n",
    "    print(\"Inside loop\")\n",
    "    counter = counter + 1\n",
    "else:\n",
    "    print(\"Inside else\")"
   ]
  },
  {
   "cell_type": "code",
   "execution_count": 43,
   "metadata": {},
   "outputs": [],
   "source": [
    "# Python break, continue and pass"
   ]
  },
  {
   "cell_type": "code",
   "execution_count": 46,
   "metadata": {},
   "outputs": [
    {
     "name": "stdout",
     "output_type": "stream",
     "text": [
      "s\n",
      "t\n",
      "r\n",
      "n\n",
      "The end\n"
     ]
    }
   ],
   "source": [
    "for val in \"string\":\n",
    "    if val == \"i\":\n",
    "        continue\n",
    "    elif val == \"g\":\n",
    "        break\n",
    "    else:\n",
    "        '''\n",
    "        pass is a null statement. The difference between a comment \n",
    "        and pass statement in Python is that, while the interpreter \n",
    "        ignores a comment entirely, pass is not ignored.'''\n",
    "        pass\n",
    "    print(val)\n",
    "\n",
    "print(\"The end\")\n",
    "\n",
    "# We can do the same thing in an empty function or class as well.\n",
    "\n",
    "def function(args):\n",
    "    pass\n",
    "\n",
    "class example:\n",
    "    pass"
   ]
  },
  {
   "cell_type": "markdown",
   "metadata": {},
   "source": [
    "## 8. Python Comprehensions"
   ]
  },
  {
   "cell_type": "code",
   "execution_count": 10,
   "metadata": {},
   "outputs": [
    {
     "name": "stdout",
     "output_type": "stream",
     "text": [
      "A for-loop:  1 4 9 16 25 36 49 64 81 100 \n",
      "Equivalent LC code:  [1, 4, 9, 16, 25, 36, 49, 64, 81, 100]\n",
      "Output List using list comprehensions: [(1, 2), (1, 7), (2, 7), (3, 2), (3, 7)]\n",
      "Output List using list comprehensions: ['hello', 'world', 'in', 'python']\n",
      "Output Dictionary using dictionary comprehensions: {'India': 'New Delhi', 'Pakistan': 'Islamabad', 'Nepal': 'Kathmandu'}\n",
      "Output Set using set comprehensions: {2, 4, 6}\n",
      "Output values using generator comprehensions: 2 4 4 6 6 6 "
     ]
    }
   ],
   "source": [
    "# List Comprehensions:\n",
    "# output_list = [expression for_loop_one_or_more conditions]\n",
    "# output_list = [output_expression() for(set of values to iterate) if(conditional filtering)]\n",
    "'''\n",
    "# A for-loop:\n",
    "for (set of values to iterate):\n",
    "  if (conditional filtering): \n",
    "    output_expression()\n",
    "# Equivalent LC code   \n",
    "[ output_expression() for(set of values to iterate) if(conditional filtering) ]   \n",
    "\n",
    "'''\n",
    "print (\"A for-loop: \", end=' ')\n",
    "for i in range(1,101):      # the iterator\n",
    "    if int(i**0.5)==i**0.5: # conditional filtering\n",
    "        print (i, end=' ')  # output-expression\n",
    "\n",
    "print (\"\\nEquivalent LC code: \", [i for i in range(1,101) if int(i**0.5)==i**0.5])\n",
    "\n",
    "list_a = [1, 2, 3]\n",
    "list_b = [2, 7]\n",
    "\n",
    "different_num = [(a, b) for a in list_a for b in list_b if a != b]\n",
    "print(\"Output List using list comprehensions:\", different_num)\n",
    "\n",
    "list_a = [\"Hello\", \"World\", \"In\", \"Python\"]\n",
    "\n",
    "small_list_a = [str.lower() for str in list_a]\n",
    "\n",
    "print(\"Output List using list comprehensions:\", small_list_a)\n",
    "\n",
    "# Dictionary Comprehensions:\n",
    "# output_dict = {key:value for (key, value) in iterable if (key, value satisfy this condition)}\n",
    "country = ['India', 'Pakistan', 'Nepal']\n",
    "capital = ['New Delhi', 'Islamabad','Kathmandu']\n",
    "dict_using_comp = {key:value for (key, value) in zip(country, capital)} \n",
    "print(\"Output Dictionary using dictionary comprehensions:\", dict_using_comp) \n",
    "\n",
    "# Set Comprehensions:\n",
    "# output_set = {output_exp for var in input_list if (var satisfies this condition)}\n",
    "input_list = [1, 2, 3, 4, 4, 5, 6, 6, 6, 7, 7] \n",
    "set_using_comp = {var for var in input_list if var % 2 == 0}  \n",
    "print(\"Output Set using set comprehensions:\", set_using_comp) \n",
    "        \n",
    "# Generator Comprehensions:\n",
    "# output_gen = (output_exp for var in input_list if (var satisfies this condition))\n",
    "output_gen = (var for var in input_list if var % 2 == 0)  \n",
    "print(\"Output values using generator comprehensions:\", end = ' ') \n",
    "for var in output_gen: \n",
    "    print(var, end = ' ') "
   ]
  },
  {
   "cell_type": "markdown",
   "metadata": {},
   "source": [
    "## 9. Python Miscellaneous"
   ]
  },
  {
   "cell_type": "code",
   "execution_count": 67,
   "metadata": {},
   "outputs": [
    {
     "name": "stdout",
     "output_type": "stream",
     "text": [
      "{'x': 66, 'y': 'dynamically created attribute'}\n",
      "42\n"
     ]
    }
   ],
   "source": [
    "# Avoiding Dynamically Created Attributes\n",
    "'''The attributes of objects are stored in a dictionary \"__dict__\". Like any other dictionary, \n",
    "a dictionary used for attribute storage doesn't have a fixed number of elements. In other words, \n",
    "you can add elements to dictionaries after they have been defined, as we have seen in our chapter\n",
    "on dictionaries. This is the reason, why you can dynamically add attributes to objects of classes \n",
    "that we have created so far: \n",
    "'''\n",
    "\n",
    "class A(object):\n",
    "    pass\n",
    "\n",
    "a = A()\n",
    "a.x = 66\n",
    "a.y = \"dynamically created attribute\"\n",
    "\n",
    "print(a.__dict__)\n",
    "\n",
    "'''Using a dictionary for attribute storage is very convenient, but it can mean a waste of space for \n",
    "objects, which have only a small amount of instance variables. The space consumption can become \n",
    "critical when creating large numbers of instances. Slots are a nice way to work around this space \n",
    "consumption problem. Instead of having a dynamic dict that allows adding attributes to objects \n",
    "dynamically, slots provide a static structure which prohibits additions after the creation of an instance. \n",
    "\n",
    "When we design a class, we can use slots to prevent the dynamic creation of attributes. To define slots, \n",
    "you have to define a list with the name __slots__. The list has to contain all the attributes, you want to use.'''\n",
    "\n",
    "class S(object):\n",
    "\n",
    "    __slots__ = ['val']\n",
    "\n",
    "    def __init__(self, v):\n",
    "        self.val = v\n",
    "\n",
    "\n",
    "x = S(42)\n",
    "print(x.val)\n",
    "\n",
    "#x.new = \"not possible\""
   ]
  },
  {
   "cell_type": "code",
   "execution_count": 73,
   "metadata": {},
   "outputs": [
    {
     "name": "stdout",
     "output_type": "stream",
     "text": [
      "Always executed\n",
      "Executed when invoked directly\n"
     ]
    }
   ],
   "source": [
    "# Python program to execute  \n",
    "# main directly \n",
    "\n",
    "# If the python interpreter is running that module (the source file) as the main program, \n",
    "# it sets the special __name__ variable to have a value “__main__”. If this file is being \n",
    "# imported from another module, __name__ will be set to the module’s name. Module’s name \n",
    "# is available as value to __name__ global variable.\n",
    "\n",
    "print(\"Always executed\")\n",
    "  \n",
    "if __name__ == \"__main__\": \n",
    "    print(\"Executed when invoked directly\")\n",
    "else: \n",
    "    print(\"Executed when imported\")"
   ]
  }
 ],
 "metadata": {
  "kernelspec": {
   "display_name": "Python 3",
   "language": "python",
   "name": "python3"
  },
  "language_info": {
   "codemirror_mode": {
    "name": "ipython",
    "version": 3
   },
   "file_extension": ".py",
   "mimetype": "text/x-python",
   "name": "python",
   "nbconvert_exporter": "python",
   "pygments_lexer": "ipython3",
   "version": "3.7.3"
  }
 },
 "nbformat": 4,
 "nbformat_minor": 2
}
